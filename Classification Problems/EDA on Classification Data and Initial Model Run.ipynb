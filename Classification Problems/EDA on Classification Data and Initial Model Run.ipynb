{
 "cells": [
  {
   "cell_type": "code",
   "execution_count": 27,
   "id": "8550b429",
   "metadata": {},
   "outputs": [
    {
     "data": {
      "text/html": [
       "<div>\n",
       "<style scoped>\n",
       "    .dataframe tbody tr th:only-of-type {\n",
       "        vertical-align: middle;\n",
       "    }\n",
       "\n",
       "    .dataframe tbody tr th {\n",
       "        vertical-align: top;\n",
       "    }\n",
       "\n",
       "    .dataframe thead th {\n",
       "        text-align: right;\n",
       "    }\n",
       "</style>\n",
       "<table border=\"1\" class=\"dataframe\">\n",
       "  <thead>\n",
       "    <tr style=\"text-align: right;\">\n",
       "      <th></th>\n",
       "      <th>x0</th>\n",
       "      <th>x1</th>\n",
       "      <th>x2</th>\n",
       "      <th>x3</th>\n",
       "      <th>x4</th>\n",
       "      <th>x5</th>\n",
       "      <th>x6</th>\n",
       "      <th>x7</th>\n",
       "      <th>x8</th>\n",
       "      <th>x9</th>\n",
       "      <th>x10</th>\n",
       "      <th>x11</th>\n",
       "      <th>x12</th>\n",
       "      <th>x13</th>\n",
       "      <th>x14</th>\n",
       "      <th>x15</th>\n",
       "      <th>x16</th>\n",
       "      <th>x17</th>\n",
       "      <th>y</th>\n",
       "    </tr>\n",
       "  </thead>\n",
       "  <tbody>\n",
       "    <tr>\n",
       "      <th>0</th>\n",
       "      <td>-17.933519</td>\n",
       "      <td>Jun</td>\n",
       "      <td>6.559220</td>\n",
       "      <td>-14.452810</td>\n",
       "      <td>-4.732855</td>\n",
       "      <td>0.381673</td>\n",
       "      <td>2.563194</td>\n",
       "      <td>($1,306.52)</td>\n",
       "      <td>-89.394348</td>\n",
       "      <td>-28.454044</td>\n",
       "      <td>-16.201298</td>\n",
       "      <td>-0.01%</td>\n",
       "      <td>0.217010</td>\n",
       "      <td>tesla</td>\n",
       "      <td>thurday</td>\n",
       "      <td>9.729891</td>\n",
       "      <td>-0.786431</td>\n",
       "      <td>small</td>\n",
       "      <td>1</td>\n",
       "    </tr>\n",
       "    <tr>\n",
       "      <th>1</th>\n",
       "      <td>-37.214754</td>\n",
       "      <td>July</td>\n",
       "      <td>10.774930</td>\n",
       "      <td>-15.384004</td>\n",
       "      <td>-0.077339</td>\n",
       "      <td>10.983774</td>\n",
       "      <td>-15.210206</td>\n",
       "      <td>($24.86)</td>\n",
       "      <td>153.032652</td>\n",
       "      <td>-32.557736</td>\n",
       "      <td>69.675903</td>\n",
       "      <td>0.00%</td>\n",
       "      <td>-3.584908</td>\n",
       "      <td>Toyota</td>\n",
       "      <td>thur</td>\n",
       "      <td>35.727926</td>\n",
       "      <td>-0.985552</td>\n",
       "      <td>small</td>\n",
       "      <td>0</td>\n",
       "    </tr>\n",
       "    <tr>\n",
       "      <th>2</th>\n",
       "      <td>0.330441</td>\n",
       "      <td>Aug</td>\n",
       "      <td>-19.609972</td>\n",
       "      <td>-9.167911</td>\n",
       "      <td>2.064124</td>\n",
       "      <td>12.071688</td>\n",
       "      <td>12.506141</td>\n",
       "      <td>($110.85)</td>\n",
       "      <td>-141.437276</td>\n",
       "      <td>-20.794952</td>\n",
       "      <td>55.042604</td>\n",
       "      <td>0.00%</td>\n",
       "      <td>-3.991366</td>\n",
       "      <td>bmw</td>\n",
       "      <td>wednesday</td>\n",
       "      <td>-9.283523</td>\n",
       "      <td>-3.394718</td>\n",
       "      <td>small</td>\n",
       "      <td>1</td>\n",
       "    </tr>\n",
       "    <tr>\n",
       "      <th>3</th>\n",
       "      <td>-13.709765</td>\n",
       "      <td>Aug</td>\n",
       "      <td>-8.011390</td>\n",
       "      <td>6.759264</td>\n",
       "      <td>1.727615</td>\n",
       "      <td>-1.768382</td>\n",
       "      <td>24.039733</td>\n",
       "      <td>($324.43)</td>\n",
       "      <td>51.039653</td>\n",
       "      <td>-7.046908</td>\n",
       "      <td>-31.424419</td>\n",
       "      <td>0.01%</td>\n",
       "      <td>7.908897</td>\n",
       "      <td>Toyota</td>\n",
       "      <td>wed</td>\n",
       "      <td>-2.891882</td>\n",
       "      <td>-2.690222</td>\n",
       "      <td>small</td>\n",
       "      <td>0</td>\n",
       "    </tr>\n",
       "    <tr>\n",
       "      <th>4</th>\n",
       "      <td>-4.202598</td>\n",
       "      <td>May</td>\n",
       "      <td>7.076210</td>\n",
       "      <td>-26.004919</td>\n",
       "      <td>-4.269696</td>\n",
       "      <td>-3.414224</td>\n",
       "      <td>2.115989</td>\n",
       "      <td>$1,213.37</td>\n",
       "      <td>-31.046700</td>\n",
       "      <td>19.061182</td>\n",
       "      <td>-31.525515</td>\n",
       "      <td>-0.01%</td>\n",
       "      <td>0.846719</td>\n",
       "      <td>Honda</td>\n",
       "      <td>wednesday</td>\n",
       "      <td>25.497480</td>\n",
       "      <td>3.516801</td>\n",
       "      <td>small</td>\n",
       "      <td>1</td>\n",
       "    </tr>\n",
       "    <tr>\n",
       "      <th>...</th>\n",
       "      <td>...</td>\n",
       "      <td>...</td>\n",
       "      <td>...</td>\n",
       "      <td>...</td>\n",
       "      <td>...</td>\n",
       "      <td>...</td>\n",
       "      <td>...</td>\n",
       "      <td>...</td>\n",
       "      <td>...</td>\n",
       "      <td>...</td>\n",
       "      <td>...</td>\n",
       "      <td>...</td>\n",
       "      <td>...</td>\n",
       "      <td>...</td>\n",
       "      <td>...</td>\n",
       "      <td>...</td>\n",
       "      <td>...</td>\n",
       "      <td>...</td>\n",
       "      <td>...</td>\n",
       "    </tr>\n",
       "    <tr>\n",
       "      <th>9994</th>\n",
       "      <td>-1.967405</td>\n",
       "      <td>Apr</td>\n",
       "      <td>-25.561679</td>\n",
       "      <td>28.188776</td>\n",
       "      <td>1.150223</td>\n",
       "      <td>-1.887983</td>\n",
       "      <td>-10.482834</td>\n",
       "      <td>($1,481.74)</td>\n",
       "      <td>203.758763</td>\n",
       "      <td>28.032961</td>\n",
       "      <td>-13.506947</td>\n",
       "      <td>0.00%</td>\n",
       "      <td>2.840758</td>\n",
       "      <td>volkswagon</td>\n",
       "      <td>thurday</td>\n",
       "      <td>-30.167906</td>\n",
       "      <td>0.979618</td>\n",
       "      <td>small</td>\n",
       "      <td>1</td>\n",
       "    </tr>\n",
       "    <tr>\n",
       "      <th>9995</th>\n",
       "      <td>41.257961</td>\n",
       "      <td>May</td>\n",
       "      <td>-0.264639</td>\n",
       "      <td>11.293025</td>\n",
       "      <td>-5.768300</td>\n",
       "      <td>4.088754</td>\n",
       "      <td>0.300116</td>\n",
       "      <td>$417.34</td>\n",
       "      <td>81.247235</td>\n",
       "      <td>32.269791</td>\n",
       "      <td>20.841980</td>\n",
       "      <td>0.00%</td>\n",
       "      <td>-2.268718</td>\n",
       "      <td>bmw</td>\n",
       "      <td>wed</td>\n",
       "      <td>-7.595250</td>\n",
       "      <td>0.269051</td>\n",
       "      <td>small</td>\n",
       "      <td>1</td>\n",
       "    </tr>\n",
       "    <tr>\n",
       "      <th>9996</th>\n",
       "      <td>11.431402</td>\n",
       "      <td>May</td>\n",
       "      <td>-28.363664</td>\n",
       "      <td>-35.619430</td>\n",
       "      <td>10.238941</td>\n",
       "      <td>6.494562</td>\n",
       "      <td>-0.407489</td>\n",
       "      <td>($1,937.19)</td>\n",
       "      <td>68.974245</td>\n",
       "      <td>-12.463081</td>\n",
       "      <td>3.114821</td>\n",
       "      <td>-0.02%</td>\n",
       "      <td>-5.195810</td>\n",
       "      <td>Honda</td>\n",
       "      <td>wednesday</td>\n",
       "      <td>9.583622</td>\n",
       "      <td>1.684282</td>\n",
       "      <td>small</td>\n",
       "      <td>1</td>\n",
       "    </tr>\n",
       "    <tr>\n",
       "      <th>9997</th>\n",
       "      <td>-19.039869</td>\n",
       "      <td>Aug</td>\n",
       "      <td>-20.251227</td>\n",
       "      <td>-3.002298</td>\n",
       "      <td>-1.039843</td>\n",
       "      <td>10.741492</td>\n",
       "      <td>-26.970477</td>\n",
       "      <td>($1,472.62)</td>\n",
       "      <td>82.525340</td>\n",
       "      <td>18.593754</td>\n",
       "      <td>-67.440846</td>\n",
       "      <td>-0.01%</td>\n",
       "      <td>6.179807</td>\n",
       "      <td>bmw</td>\n",
       "      <td>friday</td>\n",
       "      <td>3.873697</td>\n",
       "      <td>-0.525457</td>\n",
       "      <td>small</td>\n",
       "      <td>0</td>\n",
       "    </tr>\n",
       "    <tr>\n",
       "      <th>9998</th>\n",
       "      <td>-48.567163</td>\n",
       "      <td>July</td>\n",
       "      <td>5.209877</td>\n",
       "      <td>-43.120062</td>\n",
       "      <td>2.945213</td>\n",
       "      <td>0.804878</td>\n",
       "      <td>-7.292381</td>\n",
       "      <td>($863.61)</td>\n",
       "      <td>256.816776</td>\n",
       "      <td>23.831887</td>\n",
       "      <td>111.781530</td>\n",
       "      <td>0.01%</td>\n",
       "      <td>-4.626701</td>\n",
       "      <td>volkswagon</td>\n",
       "      <td>wednesday</td>\n",
       "      <td>5.290918</td>\n",
       "      <td>2.453116</td>\n",
       "      <td>medium</td>\n",
       "      <td>1</td>\n",
       "    </tr>\n",
       "  </tbody>\n",
       "</table>\n",
       "<p>9999 rows × 19 columns</p>\n",
       "</div>"
      ],
      "text/plain": [
       "             x0    x1         x2         x3         x4         x5         x6  \\\n",
       "0    -17.933519   Jun   6.559220 -14.452810  -4.732855   0.381673   2.563194   \n",
       "1    -37.214754  July  10.774930 -15.384004  -0.077339  10.983774 -15.210206   \n",
       "2      0.330441   Aug -19.609972  -9.167911   2.064124  12.071688  12.506141   \n",
       "3    -13.709765   Aug  -8.011390   6.759264   1.727615  -1.768382  24.039733   \n",
       "4     -4.202598   May   7.076210 -26.004919  -4.269696  -3.414224   2.115989   \n",
       "...         ...   ...        ...        ...        ...        ...        ...   \n",
       "9994  -1.967405   Apr -25.561679  28.188776   1.150223  -1.887983 -10.482834   \n",
       "9995  41.257961   May  -0.264639  11.293025  -5.768300   4.088754   0.300116   \n",
       "9996  11.431402   May -28.363664 -35.619430  10.238941   6.494562  -0.407489   \n",
       "9997 -19.039869   Aug -20.251227  -3.002298  -1.039843  10.741492 -26.970477   \n",
       "9998 -48.567163  July   5.209877 -43.120062   2.945213   0.804878  -7.292381   \n",
       "\n",
       "               x7          x8         x9         x10     x11       x12  \\\n",
       "0     ($1,306.52)  -89.394348 -28.454044  -16.201298  -0.01%  0.217010   \n",
       "1        ($24.86)  153.032652 -32.557736   69.675903   0.00% -3.584908   \n",
       "2       ($110.85) -141.437276 -20.794952   55.042604   0.00% -3.991366   \n",
       "3       ($324.43)   51.039653  -7.046908  -31.424419   0.01%  7.908897   \n",
       "4      $1,213.37   -31.046700  19.061182  -31.525515  -0.01%  0.846719   \n",
       "...           ...         ...        ...         ...     ...       ...   \n",
       "9994  ($1,481.74)  203.758763  28.032961  -13.506947   0.00%  2.840758   \n",
       "9995     $417.34    81.247235  32.269791   20.841980   0.00% -2.268718   \n",
       "9996  ($1,937.19)   68.974245 -12.463081    3.114821  -0.02% -5.195810   \n",
       "9997  ($1,472.62)   82.525340  18.593754  -67.440846  -0.01%  6.179807   \n",
       "9998    ($863.61)  256.816776  23.831887  111.781530   0.01% -4.626701   \n",
       "\n",
       "             x13        x14        x15       x16     x17  y  \n",
       "0          tesla    thurday   9.729891 -0.786431   small  1  \n",
       "1         Toyota       thur  35.727926 -0.985552   small  0  \n",
       "2            bmw  wednesday  -9.283523 -3.394718   small  1  \n",
       "3         Toyota        wed  -2.891882 -2.690222   small  0  \n",
       "4          Honda  wednesday  25.497480  3.516801   small  1  \n",
       "...          ...        ...        ...       ...     ... ..  \n",
       "9994  volkswagon    thurday -30.167906  0.979618   small  1  \n",
       "9995         bmw        wed  -7.595250  0.269051   small  1  \n",
       "9996       Honda  wednesday   9.583622  1.684282   small  1  \n",
       "9997         bmw     friday   3.873697 -0.525457   small  0  \n",
       "9998  volkswagon  wednesday   5.290918  2.453116  medium  1  \n",
       "\n",
       "[9999 rows x 19 columns]"
      ]
     },
     "execution_count": 27,
     "metadata": {},
     "output_type": "execute_result"
    }
   ],
   "source": [
    "import pandas as pd\n",
    "import numpy as np\n",
    "import matplotlib.pyplot as plt\n",
    "import seaborn as sns\n",
    "\n",
    "eda_class = pd.read_csv('eda_classification.csv')\n",
    "eda_class"
   ]
  },
  {
   "cell_type": "markdown",
   "id": "44eba310",
   "metadata": {},
   "source": [
    "Some initial thoughts pertaining to this dataset, I can see that there is a column that appears to be for month values, so I will explore that to ensure everything is consistent in spelling and the way they are formatted. I can also see that there are some inconsistencies in what looks like the make of a vehicle. I can also see that there appears to be a column for days of the week and I can see there are some mis-spellings and inconsistent values that will need to be explored and corrected. Lastly, there is a category for measured values of some kind (small and medium are what I can see), so that will need to be explored and cleaned if necessary.\n",
    "\n",
    "Regarding the numerical columns, there are parenthesis, dollar signs and percentages that may need to be removed in order to perform descriptive statistics on those columns and to be able to use them later on as potential features in the model that is chosen. I will also be checking for missing values and outliers in the data."
   ]
  },
  {
   "cell_type": "markdown",
   "id": "5db841a7",
   "metadata": {},
   "source": [
    "### Cleaning column with monthly values"
   ]
  },
  {
   "cell_type": "code",
   "execution_count": 28,
   "id": "2411b8dc",
   "metadata": {},
   "outputs": [
    {
     "data": {
      "text/plain": [
       "x1\n",
       "July       2709\n",
       "Jun        2357\n",
       "Aug        2059\n",
       "May        1144\n",
       "sept.       912\n",
       "Apr         413\n",
       "Oct         246\n",
       "Mar         116\n",
       "Nov          27\n",
       "Feb          10\n",
       "Dev           5\n",
       "January       1\n",
       "Name: count, dtype: int64"
      ]
     },
     "execution_count": 28,
     "metadata": {},
     "output_type": "execute_result"
    }
   ],
   "source": [
    "eda_class['x1'].value_counts()"
   ]
  },
  {
   "cell_type": "code",
   "execution_count": 29,
   "id": "16e29969",
   "metadata": {},
   "outputs": [],
   "source": [
    "# Correcting the values in the column for months to abbreviate each value to the first 3 letters of the month to make them\n",
    "# Consistent with each other\n",
    "\n",
    "month_values = {\"Dev\": \"Dec\",\n",
    "                \"sept.\": \"Sept\",\n",
    "                \"January\": \"Jan\",\n",
    "                \"July\": \"Jul\"}\n",
    "\n",
    "eda_class['x1'] = eda_class['x1'].replace(month_values)"
   ]
  },
  {
   "cell_type": "code",
   "execution_count": 30,
   "id": "335deab3",
   "metadata": {},
   "outputs": [
    {
     "data": {
      "text/plain": [
       "x1\n",
       "Jul     2709\n",
       "Jun     2357\n",
       "Aug     2059\n",
       "May     1144\n",
       "Sept     912\n",
       "Apr      413\n",
       "Oct      246\n",
       "Mar      116\n",
       "Nov       27\n",
       "Feb       10\n",
       "Dec        5\n",
       "Jan        1\n",
       "Name: count, dtype: int64"
      ]
     },
     "execution_count": 30,
     "metadata": {},
     "output_type": "execute_result"
    }
   ],
   "source": [
    "# Verifying changes have been made correctly\n",
    "\n",
    "eda_class['x1'].value_counts()"
   ]
  },
  {
   "cell_type": "markdown",
   "id": "9678df3c",
   "metadata": {},
   "source": [
    "### Cleaning the values in the vehicle make column"
   ]
  },
  {
   "cell_type": "code",
   "execution_count": 31,
   "id": "86f34423",
   "metadata": {},
   "outputs": [
    {
     "data": {
      "text/plain": [
       "x13\n",
       "volkswagon    3132\n",
       "Toyota        2773\n",
       "bmw           1837\n",
       "Honda         1277\n",
       "tesla          545\n",
       "chrystler      291\n",
       "nissan          90\n",
       "ford            39\n",
       "mercades        11\n",
       "chevrolet        3\n",
       "Name: count, dtype: int64"
      ]
     },
     "execution_count": 31,
     "metadata": {},
     "output_type": "execute_result"
    }
   ],
   "source": [
    "eda_class['x13'].value_counts()"
   ]
  },
  {
   "cell_type": "code",
   "execution_count": 32,
   "id": "f143e8c0",
   "metadata": {},
   "outputs": [],
   "source": [
    "# This is capitlizating all of the vehicle makes, capitalizing each letter in BMW, and correcting the spelling in Mercedes\n",
    "# and Chrysler to clean this column of data\n",
    "\n",
    "eda_class['x13'] = eda_class['x13'].str.capitalize()\n",
    "eda_class['x13'] = eda_class['x13'].replace('Bmw', \"BMW\")\n",
    "eda_class['x13'] = eda_class['x13'].replace(\"Mercades\", \"Mercedes\")\n",
    "eda_class['x13'] = eda_class['x13'].replace(\"Chrystler\", \"Chrysler\")"
   ]
  },
  {
   "cell_type": "code",
   "execution_count": 33,
   "id": "a54d241c",
   "metadata": {},
   "outputs": [
    {
     "data": {
      "text/plain": [
       "x13\n",
       "Volkswagon    3132\n",
       "Toyota        2773\n",
       "BMW           1837\n",
       "Honda         1277\n",
       "Tesla          545\n",
       "Chrysler       291\n",
       "Nissan          90\n",
       "Ford            39\n",
       "Mercedes        11\n",
       "Chevrolet        3\n",
       "Name: count, dtype: int64"
      ]
     },
     "execution_count": 33,
     "metadata": {},
     "output_type": "execute_result"
    }
   ],
   "source": [
    "eda_class['x13'].value_counts()"
   ]
  },
  {
   "cell_type": "markdown",
   "id": "97c859b5",
   "metadata": {},
   "source": [
    "### Cleaning the column with the days of the week values"
   ]
  },
  {
   "cell_type": "code",
   "execution_count": 34,
   "id": "eed1fba0",
   "metadata": {},
   "outputs": [
    {
     "data": {
      "text/plain": [
       "x14\n",
       "wed          3709\n",
       "thurday      3336\n",
       "wednesday    1489\n",
       "thur         1097\n",
       "tuesday       214\n",
       "friday        130\n",
       "monday         15\n",
       "fri             7\n",
       "Name: count, dtype: int64"
      ]
     },
     "execution_count": 34,
     "metadata": {},
     "output_type": "execute_result"
    }
   ],
   "source": [
    "eda_class['x14'].value_counts()"
   ]
  },
  {
   "cell_type": "code",
   "execution_count": 35,
   "id": "865c1901",
   "metadata": {},
   "outputs": [],
   "source": [
    "# This is cleaning the days of the week by capitalizing the first letter in each value and abreviating each month value\n",
    "# To maintain consistency.\n",
    "\n",
    "day_values = {\"wed\": \"Wed\",\n",
    "              \"thurday\": \"Thur\",\n",
    "              \"thur\": \"Thur\",\n",
    "              \"wednesday\": \"Wed\",\n",
    "              \"monday\": \"Mon\",\n",
    "              \"fri\": \"Fri\",\n",
    "              \"friday\": \"Fri\",\n",
    "              \"tuesday\": \"Tue\"}\n",
    "\n",
    "eda_class['x14'] = eda_class['x14'].replace(day_values)"
   ]
  },
  {
   "cell_type": "code",
   "execution_count": 36,
   "id": "36c4622e",
   "metadata": {},
   "outputs": [
    {
     "data": {
      "text/plain": [
       "x14\n",
       "Wed     5198\n",
       "Thur    4433\n",
       "Tue      214\n",
       "Fri      137\n",
       "Mon       15\n",
       "Name: count, dtype: int64"
      ]
     },
     "execution_count": 36,
     "metadata": {},
     "output_type": "execute_result"
    }
   ],
   "source": [
    "eda_class['x14'].value_counts()"
   ]
  },
  {
   "cell_type": "markdown",
   "id": "93d2b349",
   "metadata": {},
   "source": [
    "### Checking column values that are related to size"
   ]
  },
  {
   "cell_type": "code",
   "execution_count": 37,
   "id": "a29718cd",
   "metadata": {},
   "outputs": [
    {
     "data": {
      "text/plain": [
       "x17\n",
       "small     8849\n",
       "medium     783\n",
       "large      367\n",
       "Name: count, dtype: int64"
      ]
     },
     "execution_count": 37,
     "metadata": {},
     "output_type": "execute_result"
    }
   ],
   "source": [
    "eda_class['x17'].value_counts()"
   ]
  },
  {
   "cell_type": "markdown",
   "id": "e37a268a",
   "metadata": {},
   "source": [
    "### Cleaning numerical columns\n",
    "##### - Replacing parenthesis with a negative sign\n",
    "##### - Removing dollar signs, percentages and commas"
   ]
  },
  {
   "cell_type": "code",
   "execution_count": 38,
   "id": "ea4ac8e5",
   "metadata": {},
   "outputs": [],
   "source": [
    "eda_class.replace({\"\\(\": \"-\", \"\\)\": \"\", \"\\$\":\"\", \"%\":\"\", \",\":\"\"}, regex=True, inplace=True)"
   ]
  },
  {
   "cell_type": "code",
   "execution_count": 39,
   "id": "9aae7d82",
   "metadata": {},
   "outputs": [
    {
     "data": {
      "text/html": [
       "<div>\n",
       "<style scoped>\n",
       "    .dataframe tbody tr th:only-of-type {\n",
       "        vertical-align: middle;\n",
       "    }\n",
       "\n",
       "    .dataframe tbody tr th {\n",
       "        vertical-align: top;\n",
       "    }\n",
       "\n",
       "    .dataframe thead th {\n",
       "        text-align: right;\n",
       "    }\n",
       "</style>\n",
       "<table border=\"1\" class=\"dataframe\">\n",
       "  <thead>\n",
       "    <tr style=\"text-align: right;\">\n",
       "      <th></th>\n",
       "      <th>x0</th>\n",
       "      <th>x1</th>\n",
       "      <th>x2</th>\n",
       "      <th>x3</th>\n",
       "      <th>x4</th>\n",
       "      <th>x5</th>\n",
       "      <th>x6</th>\n",
       "      <th>x7</th>\n",
       "      <th>x8</th>\n",
       "      <th>x9</th>\n",
       "      <th>x10</th>\n",
       "      <th>x11</th>\n",
       "      <th>x12</th>\n",
       "      <th>x13</th>\n",
       "      <th>x14</th>\n",
       "      <th>x15</th>\n",
       "      <th>x16</th>\n",
       "      <th>x17</th>\n",
       "      <th>y</th>\n",
       "    </tr>\n",
       "  </thead>\n",
       "  <tbody>\n",
       "    <tr>\n",
       "      <th>0</th>\n",
       "      <td>-17.933519</td>\n",
       "      <td>Jun</td>\n",
       "      <td>6.559220</td>\n",
       "      <td>-14.452810</td>\n",
       "      <td>-4.732855</td>\n",
       "      <td>0.381673</td>\n",
       "      <td>2.563194</td>\n",
       "      <td>-1306.52</td>\n",
       "      <td>-89.394348</td>\n",
       "      <td>-28.454044</td>\n",
       "      <td>-16.201298</td>\n",
       "      <td>-0.01</td>\n",
       "      <td>0.217010</td>\n",
       "      <td>Tesla</td>\n",
       "      <td>Thur</td>\n",
       "      <td>9.729891</td>\n",
       "      <td>-0.786431</td>\n",
       "      <td>small</td>\n",
       "      <td>1</td>\n",
       "    </tr>\n",
       "    <tr>\n",
       "      <th>1</th>\n",
       "      <td>-37.214754</td>\n",
       "      <td>Jul</td>\n",
       "      <td>10.774930</td>\n",
       "      <td>-15.384004</td>\n",
       "      <td>-0.077339</td>\n",
       "      <td>10.983774</td>\n",
       "      <td>-15.210206</td>\n",
       "      <td>-24.86</td>\n",
       "      <td>153.032652</td>\n",
       "      <td>-32.557736</td>\n",
       "      <td>69.675903</td>\n",
       "      <td>0.00</td>\n",
       "      <td>-3.584908</td>\n",
       "      <td>Toyota</td>\n",
       "      <td>Thur</td>\n",
       "      <td>35.727926</td>\n",
       "      <td>-0.985552</td>\n",
       "      <td>small</td>\n",
       "      <td>0</td>\n",
       "    </tr>\n",
       "    <tr>\n",
       "      <th>2</th>\n",
       "      <td>0.330441</td>\n",
       "      <td>Aug</td>\n",
       "      <td>-19.609972</td>\n",
       "      <td>-9.167911</td>\n",
       "      <td>2.064124</td>\n",
       "      <td>12.071688</td>\n",
       "      <td>12.506141</td>\n",
       "      <td>-110.85</td>\n",
       "      <td>-141.437276</td>\n",
       "      <td>-20.794952</td>\n",
       "      <td>55.042604</td>\n",
       "      <td>0.00</td>\n",
       "      <td>-3.991366</td>\n",
       "      <td>BMW</td>\n",
       "      <td>Wed</td>\n",
       "      <td>-9.283523</td>\n",
       "      <td>-3.394718</td>\n",
       "      <td>small</td>\n",
       "      <td>1</td>\n",
       "    </tr>\n",
       "    <tr>\n",
       "      <th>3</th>\n",
       "      <td>-13.709765</td>\n",
       "      <td>Aug</td>\n",
       "      <td>-8.011390</td>\n",
       "      <td>6.759264</td>\n",
       "      <td>1.727615</td>\n",
       "      <td>-1.768382</td>\n",
       "      <td>24.039733</td>\n",
       "      <td>-324.43</td>\n",
       "      <td>51.039653</td>\n",
       "      <td>-7.046908</td>\n",
       "      <td>-31.424419</td>\n",
       "      <td>0.01</td>\n",
       "      <td>7.908897</td>\n",
       "      <td>Toyota</td>\n",
       "      <td>Wed</td>\n",
       "      <td>-2.891882</td>\n",
       "      <td>-2.690222</td>\n",
       "      <td>small</td>\n",
       "      <td>0</td>\n",
       "    </tr>\n",
       "    <tr>\n",
       "      <th>4</th>\n",
       "      <td>-4.202598</td>\n",
       "      <td>May</td>\n",
       "      <td>7.076210</td>\n",
       "      <td>-26.004919</td>\n",
       "      <td>-4.269696</td>\n",
       "      <td>-3.414224</td>\n",
       "      <td>2.115989</td>\n",
       "      <td>1213.37</td>\n",
       "      <td>-31.046700</td>\n",
       "      <td>19.061182</td>\n",
       "      <td>-31.525515</td>\n",
       "      <td>-0.01</td>\n",
       "      <td>0.846719</td>\n",
       "      <td>Honda</td>\n",
       "      <td>Wed</td>\n",
       "      <td>25.497480</td>\n",
       "      <td>3.516801</td>\n",
       "      <td>small</td>\n",
       "      <td>1</td>\n",
       "    </tr>\n",
       "    <tr>\n",
       "      <th>5</th>\n",
       "      <td>12.570277</td>\n",
       "      <td>Jul</td>\n",
       "      <td>2.543883</td>\n",
       "      <td>25.673620</td>\n",
       "      <td>-0.842858</td>\n",
       "      <td>3.400531</td>\n",
       "      <td>37.176963</td>\n",
       "      <td>-1508.42</td>\n",
       "      <td>-98.956484</td>\n",
       "      <td>11.734073</td>\n",
       "      <td>100.654890</td>\n",
       "      <td>0.00</td>\n",
       "      <td>15.359466</td>\n",
       "      <td>Toyota</td>\n",
       "      <td>Thur</td>\n",
       "      <td>9.000782</td>\n",
       "      <td>1.929145</td>\n",
       "      <td>small</td>\n",
       "      <td>1</td>\n",
       "    </tr>\n",
       "    <tr>\n",
       "      <th>6</th>\n",
       "      <td>17.949374</td>\n",
       "      <td>Jun</td>\n",
       "      <td>-35.406853</td>\n",
       "      <td>-25.164967</td>\n",
       "      <td>0.587439</td>\n",
       "      <td>-13.782894</td>\n",
       "      <td>-5.204895</td>\n",
       "      <td>-1431.44</td>\n",
       "      <td>-205.638274</td>\n",
       "      <td>16.399039</td>\n",
       "      <td>116.749751</td>\n",
       "      <td>0.01</td>\n",
       "      <td>5.964466</td>\n",
       "      <td>BMW</td>\n",
       "      <td>Thur</td>\n",
       "      <td>15.851576</td>\n",
       "      <td>-0.819405</td>\n",
       "      <td>small</td>\n",
       "      <td>0</td>\n",
       "    </tr>\n",
       "    <tr>\n",
       "      <th>7</th>\n",
       "      <td>38.645268</td>\n",
       "      <td>Jun</td>\n",
       "      <td>-21.871066</td>\n",
       "      <td>-74.405515</td>\n",
       "      <td>-9.707926</td>\n",
       "      <td>6.114417</td>\n",
       "      <td>-17.883435</td>\n",
       "      <td>1613.55</td>\n",
       "      <td>-239.151432</td>\n",
       "      <td>28.570116</td>\n",
       "      <td>-333.261028</td>\n",
       "      <td>0.01</td>\n",
       "      <td>5.556269</td>\n",
       "      <td>Ford</td>\n",
       "      <td>Wed</td>\n",
       "      <td>-15.112181</td>\n",
       "      <td>2.480845</td>\n",
       "      <td>small</td>\n",
       "      <td>0</td>\n",
       "    </tr>\n",
       "    <tr>\n",
       "      <th>8</th>\n",
       "      <td>35.279887</td>\n",
       "      <td>Jun</td>\n",
       "      <td>-2.004483</td>\n",
       "      <td>-12.071977</td>\n",
       "      <td>-1.020028</td>\n",
       "      <td>3.250741</td>\n",
       "      <td>-19.377852</td>\n",
       "      <td>1178.11</td>\n",
       "      <td>-108.229348</td>\n",
       "      <td>-29.886388</td>\n",
       "      <td>-126.434298</td>\n",
       "      <td>0.00</td>\n",
       "      <td>4.085897</td>\n",
       "      <td>Volkswagon</td>\n",
       "      <td>Thur</td>\n",
       "      <td>-10.558902</td>\n",
       "      <td>1.700618</td>\n",
       "      <td>medium</td>\n",
       "      <td>1</td>\n",
       "    </tr>\n",
       "    <tr>\n",
       "      <th>9</th>\n",
       "      <td>-31.756646</td>\n",
       "      <td>Jul</td>\n",
       "      <td>-5.499585</td>\n",
       "      <td>6.198889</td>\n",
       "      <td>-4.569550</td>\n",
       "      <td>13.902393</td>\n",
       "      <td>1.031500</td>\n",
       "      <td>-312.04</td>\n",
       "      <td>299.025699</td>\n",
       "      <td>24.338666</td>\n",
       "      <td>-25.001839</td>\n",
       "      <td>0.00</td>\n",
       "      <td>4.204932</td>\n",
       "      <td>Honda</td>\n",
       "      <td>Thur</td>\n",
       "      <td>-5.320926</td>\n",
       "      <td>4.405564</td>\n",
       "      <td>small</td>\n",
       "      <td>0</td>\n",
       "    </tr>\n",
       "    <tr>\n",
       "      <th>10</th>\n",
       "      <td>-18.497884</td>\n",
       "      <td>Jul</td>\n",
       "      <td>-4.119074</td>\n",
       "      <td>34.019325</td>\n",
       "      <td>3.351706</td>\n",
       "      <td>17.936091</td>\n",
       "      <td>-3.831925</td>\n",
       "      <td>126.05</td>\n",
       "      <td>32.576115</td>\n",
       "      <td>17.370882</td>\n",
       "      <td>-132.545821</td>\n",
       "      <td>0.00</td>\n",
       "      <td>-1.323482</td>\n",
       "      <td>Toyota</td>\n",
       "      <td>Thur</td>\n",
       "      <td>-2.553100</td>\n",
       "      <td>1.678023</td>\n",
       "      <td>small</td>\n",
       "      <td>1</td>\n",
       "    </tr>\n",
       "    <tr>\n",
       "      <th>11</th>\n",
       "      <td>7.464154</td>\n",
       "      <td>Aug</td>\n",
       "      <td>-9.292887</td>\n",
       "      <td>17.063521</td>\n",
       "      <td>-0.299147</td>\n",
       "      <td>1.974367</td>\n",
       "      <td>19.249930</td>\n",
       "      <td>-950.04</td>\n",
       "      <td>-94.388666</td>\n",
       "      <td>-25.937896</td>\n",
       "      <td>18.388598</td>\n",
       "      <td>0.00</td>\n",
       "      <td>6.862412</td>\n",
       "      <td>BMW</td>\n",
       "      <td>Thur</td>\n",
       "      <td>-18.183859</td>\n",
       "      <td>-3.036147</td>\n",
       "      <td>small</td>\n",
       "      <td>0</td>\n",
       "    </tr>\n",
       "    <tr>\n",
       "      <th>12</th>\n",
       "      <td>-21.378814</td>\n",
       "      <td>May</td>\n",
       "      <td>-10.923187</td>\n",
       "      <td>-40.698436</td>\n",
       "      <td>5.112985</td>\n",
       "      <td>-22.332398</td>\n",
       "      <td>6.161898</td>\n",
       "      <td>357.42</td>\n",
       "      <td>172.656478</td>\n",
       "      <td>-34.853075</td>\n",
       "      <td>-31.957192</td>\n",
       "      <td>0.00</td>\n",
       "      <td>2.840320</td>\n",
       "      <td>Toyota</td>\n",
       "      <td>Thur</td>\n",
       "      <td>-18.399284</td>\n",
       "      <td>-2.022681</td>\n",
       "      <td>small</td>\n",
       "      <td>0</td>\n",
       "    </tr>\n",
       "    <tr>\n",
       "      <th>13</th>\n",
       "      <td>49.363736</td>\n",
       "      <td>Aug</td>\n",
       "      <td>-23.559260</td>\n",
       "      <td>-26.717526</td>\n",
       "      <td>-1.266378</td>\n",
       "      <td>-2.767417</td>\n",
       "      <td>14.881183</td>\n",
       "      <td>-528.05</td>\n",
       "      <td>149.371788</td>\n",
       "      <td>32.403329</td>\n",
       "      <td>7.602912</td>\n",
       "      <td>0.00</td>\n",
       "      <td>-4.284136</td>\n",
       "      <td>BMW</td>\n",
       "      <td>Thur</td>\n",
       "      <td>1.445235</td>\n",
       "      <td>-5.933852</td>\n",
       "      <td>small</td>\n",
       "      <td>0</td>\n",
       "    </tr>\n",
       "    <tr>\n",
       "      <th>14</th>\n",
       "      <td>-5.541810</td>\n",
       "      <td>Apr</td>\n",
       "      <td>-12.610468</td>\n",
       "      <td>9.841637</td>\n",
       "      <td>3.536010</td>\n",
       "      <td>-3.800901</td>\n",
       "      <td>14.165534</td>\n",
       "      <td>-840.25</td>\n",
       "      <td>162.163002</td>\n",
       "      <td>2.041889</td>\n",
       "      <td>-23.200939</td>\n",
       "      <td>0.00</td>\n",
       "      <td>1.292131</td>\n",
       "      <td>Volkswagon</td>\n",
       "      <td>Tue</td>\n",
       "      <td>-10.629107</td>\n",
       "      <td>2.428081</td>\n",
       "      <td>small</td>\n",
       "      <td>1</td>\n",
       "    </tr>\n",
       "  </tbody>\n",
       "</table>\n",
       "</div>"
      ],
      "text/plain": [
       "           x0   x1         x2         x3        x4         x5         x6  \\\n",
       "0  -17.933519  Jun   6.559220 -14.452810 -4.732855   0.381673   2.563194   \n",
       "1  -37.214754  Jul  10.774930 -15.384004 -0.077339  10.983774 -15.210206   \n",
       "2    0.330441  Aug -19.609972  -9.167911  2.064124  12.071688  12.506141   \n",
       "3  -13.709765  Aug  -8.011390   6.759264  1.727615  -1.768382  24.039733   \n",
       "4   -4.202598  May   7.076210 -26.004919 -4.269696  -3.414224   2.115989   \n",
       "5   12.570277  Jul   2.543883  25.673620 -0.842858   3.400531  37.176963   \n",
       "6   17.949374  Jun -35.406853 -25.164967  0.587439 -13.782894  -5.204895   \n",
       "7   38.645268  Jun -21.871066 -74.405515 -9.707926   6.114417 -17.883435   \n",
       "8   35.279887  Jun  -2.004483 -12.071977 -1.020028   3.250741 -19.377852   \n",
       "9  -31.756646  Jul  -5.499585   6.198889 -4.569550  13.902393   1.031500   \n",
       "10 -18.497884  Jul  -4.119074  34.019325  3.351706  17.936091  -3.831925   \n",
       "11   7.464154  Aug  -9.292887  17.063521 -0.299147   1.974367  19.249930   \n",
       "12 -21.378814  May -10.923187 -40.698436  5.112985 -22.332398   6.161898   \n",
       "13  49.363736  Aug -23.559260 -26.717526 -1.266378  -2.767417  14.881183   \n",
       "14  -5.541810  Apr -12.610468   9.841637  3.536010  -3.800901  14.165534   \n",
       "\n",
       "          x7          x8         x9         x10    x11        x12         x13  \\\n",
       "0   -1306.52  -89.394348 -28.454044  -16.201298  -0.01   0.217010       Tesla   \n",
       "1     -24.86  153.032652 -32.557736   69.675903   0.00  -3.584908      Toyota   \n",
       "2    -110.85 -141.437276 -20.794952   55.042604   0.00  -3.991366         BMW   \n",
       "3    -324.43   51.039653  -7.046908  -31.424419   0.01   7.908897      Toyota   \n",
       "4   1213.37   -31.046700  19.061182  -31.525515  -0.01   0.846719       Honda   \n",
       "5   -1508.42  -98.956484  11.734073  100.654890   0.00  15.359466      Toyota   \n",
       "6   -1431.44 -205.638274  16.399039  116.749751   0.01   5.964466         BMW   \n",
       "7   1613.55  -239.151432  28.570116 -333.261028   0.01   5.556269        Ford   \n",
       "8   1178.11  -108.229348 -29.886388 -126.434298   0.00   4.085897  Volkswagon   \n",
       "9    -312.04  299.025699  24.338666  -25.001839   0.00   4.204932       Honda   \n",
       "10   126.05    32.576115  17.370882 -132.545821   0.00  -1.323482      Toyota   \n",
       "11   -950.04  -94.388666 -25.937896   18.388598   0.00   6.862412         BMW   \n",
       "12   357.42   172.656478 -34.853075  -31.957192   0.00   2.840320      Toyota   \n",
       "13   -528.05  149.371788  32.403329    7.602912   0.00  -4.284136         BMW   \n",
       "14   -840.25  162.163002   2.041889  -23.200939   0.00   1.292131  Volkswagon   \n",
       "\n",
       "     x14        x15       x16     x17  y  \n",
       "0   Thur   9.729891 -0.786431   small  1  \n",
       "1   Thur  35.727926 -0.985552   small  0  \n",
       "2    Wed  -9.283523 -3.394718   small  1  \n",
       "3    Wed  -2.891882 -2.690222   small  0  \n",
       "4    Wed  25.497480  3.516801   small  1  \n",
       "5   Thur   9.000782  1.929145   small  1  \n",
       "6   Thur  15.851576 -0.819405   small  0  \n",
       "7    Wed -15.112181  2.480845   small  0  \n",
       "8   Thur -10.558902  1.700618  medium  1  \n",
       "9   Thur  -5.320926  4.405564   small  0  \n",
       "10  Thur  -2.553100  1.678023   small  1  \n",
       "11  Thur -18.183859 -3.036147   small  0  \n",
       "12  Thur -18.399284 -2.022681   small  0  \n",
       "13  Thur   1.445235 -5.933852   small  0  \n",
       "14   Tue -10.629107  2.428081   small  1  "
      ]
     },
     "execution_count": 39,
     "metadata": {},
     "output_type": "execute_result"
    }
   ],
   "source": [
    "eda_class.head(15)"
   ]
  },
  {
   "cell_type": "markdown",
   "id": "ec1caad9",
   "metadata": {},
   "source": [
    "### Converting numerical columns to float"
   ]
  },
  {
   "cell_type": "code",
   "execution_count": 40,
   "id": "8fc24a58",
   "metadata": {},
   "outputs": [],
   "source": [
    "eda_class['x7'] = eda_class['x7'].astype(float)\n",
    "eda_class['x11'] = eda_class['x11'].astype(float)"
   ]
  },
  {
   "cell_type": "code",
   "execution_count": 41,
   "id": "5c60e8a0",
   "metadata": {},
   "outputs": [
    {
     "data": {
      "text/plain": [
       "x0     float64\n",
       "x1      object\n",
       "x2     float64\n",
       "x3     float64\n",
       "x4     float64\n",
       "x5     float64\n",
       "x6     float64\n",
       "x7     float64\n",
       "x8     float64\n",
       "x9     float64\n",
       "x10    float64\n",
       "x11    float64\n",
       "x12    float64\n",
       "x13     object\n",
       "x14     object\n",
       "x15    float64\n",
       "x16    float64\n",
       "x17     object\n",
       "y        int64\n",
       "dtype: object"
      ]
     },
     "execution_count": 41,
     "metadata": {},
     "output_type": "execute_result"
    }
   ],
   "source": [
    "eda_class.dtypes"
   ]
  },
  {
   "cell_type": "code",
   "execution_count": 42,
   "id": "c72a3014",
   "metadata": {},
   "outputs": [],
   "source": [
    "numerical_features = ['x0', 'x2', 'x3', 'x4', 'x5', 'x6', 'x7', 'x8', 'x9', 'x10', 'x11', 'x12', 'x15', 'x16']\n",
    "categorical_features = ['x1', 'x13', 'x14', 'x17'] "
   ]
  },
  {
   "cell_type": "markdown",
   "id": "5546be81",
   "metadata": {},
   "source": [
    "### Checking for missing values"
   ]
  },
  {
   "cell_type": "code",
   "execution_count": 43,
   "id": "4fafdb5c",
   "metadata": {},
   "outputs": [
    {
     "name": "stdout",
     "output_type": "stream",
     "text": [
      "x0     3\n",
      "x2     4\n",
      "x3     3\n",
      "x4     2\n",
      "x5     2\n",
      "x6     0\n",
      "x7     3\n",
      "x8     1\n",
      "x9     0\n",
      "x10    3\n",
      "x11    2\n",
      "x12    4\n",
      "x15    0\n",
      "x16    1\n",
      "dtype: int64\n",
      "\n",
      "x1     0\n",
      "x13    1\n",
      "x14    2\n",
      "x17    0\n",
      "dtype: int64\n"
     ]
    }
   ],
   "source": [
    "print(eda_class[numerical_features].isnull().sum())\n",
    "print()\n",
    "print(eda_class[categorical_features].isnull().sum())"
   ]
  },
  {
   "cell_type": "code",
   "execution_count": 44,
   "id": "b2c92208",
   "metadata": {},
   "outputs": [],
   "source": [
    "# Replacing all missing numerical features with the mean of that column, and replacing all missing values in categorical\n",
    "# columns with the mode of that column\n",
    "\n",
    "eda_class[numerical_features] = eda_class[numerical_features].transform(lambda x: x.fillna(x.mean()))\n",
    "eda_class[categorical_features] = eda_class[categorical_features].fillna(eda_class[categorical_features].mode().iloc[0])"
   ]
  },
  {
   "cell_type": "code",
   "execution_count": 45,
   "id": "fbe20c41",
   "metadata": {},
   "outputs": [
    {
     "name": "stdout",
     "output_type": "stream",
     "text": [
      "x0     0\n",
      "x2     0\n",
      "x3     0\n",
      "x4     0\n",
      "x5     0\n",
      "x6     0\n",
      "x7     0\n",
      "x8     0\n",
      "x9     0\n",
      "x10    0\n",
      "x11    0\n",
      "x12    0\n",
      "x15    0\n",
      "x16    0\n",
      "dtype: int64\n",
      "\n",
      "x1     0\n",
      "x13    0\n",
      "x14    0\n",
      "x17    0\n",
      "dtype: int64\n"
     ]
    }
   ],
   "source": [
    "# Rechecking the missing values to ensure they are no longer present:\n",
    "\n",
    "print(eda_class[numerical_features].isnull().sum())\n",
    "print()\n",
    "print(eda_class[categorical_features].isnull().sum())"
   ]
  },
  {
   "cell_type": "markdown",
   "id": "cf0aeedf",
   "metadata": {},
   "source": [
    "### Checking for outliers in the numerical columns"
   ]
  },
  {
   "cell_type": "code",
   "execution_count": 46,
   "id": "1e611083",
   "metadata": {},
   "outputs": [
    {
     "name": "stderr",
     "output_type": "stream",
     "text": [
      "C:\\Users\\meierd\\AppData\\Local\\anaconda3\\Lib\\site-packages\\seaborn\\_oldcore.py:1498: FutureWarning: is_categorical_dtype is deprecated and will be removed in a future version. Use isinstance(dtype, CategoricalDtype) instead\n",
      "  if pd.api.types.is_categorical_dtype(vector):\n",
      "C:\\Users\\meierd\\AppData\\Local\\anaconda3\\Lib\\site-packages\\seaborn\\_oldcore.py:1498: FutureWarning: is_categorical_dtype is deprecated and will be removed in a future version. Use isinstance(dtype, CategoricalDtype) instead\n",
      "  if pd.api.types.is_categorical_dtype(vector):\n",
      "C:\\Users\\meierd\\AppData\\Local\\anaconda3\\Lib\\site-packages\\seaborn\\_oldcore.py:1498: FutureWarning: is_categorical_dtype is deprecated and will be removed in a future version. Use isinstance(dtype, CategoricalDtype) instead\n",
      "  if pd.api.types.is_categorical_dtype(vector):\n",
      "C:\\Users\\meierd\\AppData\\Local\\anaconda3\\Lib\\site-packages\\seaborn\\_oldcore.py:1498: FutureWarning: is_categorical_dtype is deprecated and will be removed in a future version. Use isinstance(dtype, CategoricalDtype) instead\n",
      "  if pd.api.types.is_categorical_dtype(vector):\n",
      "C:\\Users\\meierd\\AppData\\Local\\anaconda3\\Lib\\site-packages\\seaborn\\_oldcore.py:1498: FutureWarning: is_categorical_dtype is deprecated and will be removed in a future version. Use isinstance(dtype, CategoricalDtype) instead\n",
      "  if pd.api.types.is_categorical_dtype(vector):\n",
      "C:\\Users\\meierd\\AppData\\Local\\anaconda3\\Lib\\site-packages\\seaborn\\_oldcore.py:1498: FutureWarning: is_categorical_dtype is deprecated and will be removed in a future version. Use isinstance(dtype, CategoricalDtype) instead\n",
      "  if pd.api.types.is_categorical_dtype(vector):\n",
      "C:\\Users\\meierd\\AppData\\Local\\anaconda3\\Lib\\site-packages\\seaborn\\_oldcore.py:1498: FutureWarning: is_categorical_dtype is deprecated and will be removed in a future version. Use isinstance(dtype, CategoricalDtype) instead\n",
      "  if pd.api.types.is_categorical_dtype(vector):\n",
      "C:\\Users\\meierd\\AppData\\Local\\anaconda3\\Lib\\site-packages\\seaborn\\_oldcore.py:1498: FutureWarning: is_categorical_dtype is deprecated and will be removed in a future version. Use isinstance(dtype, CategoricalDtype) instead\n",
      "  if pd.api.types.is_categorical_dtype(vector):\n",
      "C:\\Users\\meierd\\AppData\\Local\\anaconda3\\Lib\\site-packages\\seaborn\\_oldcore.py:1498: FutureWarning: is_categorical_dtype is deprecated and will be removed in a future version. Use isinstance(dtype, CategoricalDtype) instead\n",
      "  if pd.api.types.is_categorical_dtype(vector):\n",
      "C:\\Users\\meierd\\AppData\\Local\\anaconda3\\Lib\\site-packages\\seaborn\\_oldcore.py:1498: FutureWarning: is_categorical_dtype is deprecated and will be removed in a future version. Use isinstance(dtype, CategoricalDtype) instead\n",
      "  if pd.api.types.is_categorical_dtype(vector):\n",
      "C:\\Users\\meierd\\AppData\\Local\\anaconda3\\Lib\\site-packages\\seaborn\\_oldcore.py:1498: FutureWarning: is_categorical_dtype is deprecated and will be removed in a future version. Use isinstance(dtype, CategoricalDtype) instead\n",
      "  if pd.api.types.is_categorical_dtype(vector):\n",
      "C:\\Users\\meierd\\AppData\\Local\\anaconda3\\Lib\\site-packages\\seaborn\\_oldcore.py:1498: FutureWarning: is_categorical_dtype is deprecated and will be removed in a future version. Use isinstance(dtype, CategoricalDtype) instead\n",
      "  if pd.api.types.is_categorical_dtype(vector):\n",
      "C:\\Users\\meierd\\AppData\\Local\\anaconda3\\Lib\\site-packages\\seaborn\\_oldcore.py:1498: FutureWarning: is_categorical_dtype is deprecated and will be removed in a future version. Use isinstance(dtype, CategoricalDtype) instead\n",
      "  if pd.api.types.is_categorical_dtype(vector):\n",
      "C:\\Users\\meierd\\AppData\\Local\\anaconda3\\Lib\\site-packages\\seaborn\\_oldcore.py:1498: FutureWarning: is_categorical_dtype is deprecated and will be removed in a future version. Use isinstance(dtype, CategoricalDtype) instead\n",
      "  if pd.api.types.is_categorical_dtype(vector):\n"
     ]
    },
    {
     "data": {
      "image/png": "[encoded data removed]",
      "text/plain": [
       "<Figure size 1000x500 with 14 Axes>"
      ]
     },
     "metadata": {},
     "output_type": "display_data"
    }
   ],
   "source": [
    "# This is putting all numerical features together and all categorical features together.\n",
    "\n",
    "fig, axs = plt.subplots(3, 5, figsize=(10, 5))\n",
    "\n",
    "axs = axs.flatten()\n",
    "\n",
    "for i, num_feature in enumerate(numerical_features):\n",
    "    sns.boxplot(x=eda_class[num_feature], color='blue', ax=axs[i])\n",
    "    axs[i].set_title(f'Feature: {num_feature}')\n",
    "    axs[i].set_xlabel(num_feature)\n",
    "\n",
    "for j in range(len(numerical_features), 15):\n",
    "    fig.delaxes(axs[j])\n",
    "    # Adjusting layout to prevent overlapping\n",
    "plt.tight_layout()"
   ]
  },
  {
   "cell_type": "code",
   "execution_count": 47,
   "id": "bbda165d",
   "metadata": {},
   "outputs": [
    {
     "data": {
      "image/png": "[encoded data removed]",
      "text/plain": [
       "<Figure size 2000x1000 with 16 Axes>"
      ]
     },
     "metadata": {},
     "output_type": "display_data"
    }
   ],
   "source": [
    "eda_class[numerical_features].hist(bins=10, figsize=(20, 10));"
   ]
  },
  {
   "cell_type": "code",
   "execution_count": 48,
   "id": "dbf13eca",
   "metadata": {},
   "outputs": [],
   "source": [
    "# It would appear that the numerical features in the dataset are normally distributed. This is a function that will\n",
    "# calculate the outliers in each column of a dataframe that is provided to the function\n",
    "\n",
    "def remove_outlier(df_in, col_name):\n",
    "    q1 = df_in[col_name].quantile(0.25)\n",
    "    q3 = df_in[col_name].quantile(0.75)\n",
    "    iqr = q3-q1 #Interquartile range\n",
    "    fence_low  = q1-1.5*iqr\n",
    "    fence_high = q3+1.5*iqr\n",
    "    df_out = df_in.loc[(df_in[col_name] > fence_low) & (df_in[col_name] < fence_high)]\n",
    "    return df_out"
   ]
  },
  {
   "cell_type": "code",
   "execution_count": 55,
   "id": "4dc3a8fc",
   "metadata": {},
   "outputs": [],
   "source": [
    "#This is using a for loop to go through each column that is in numerical features and removing the outliers by applying the\n",
    "# remove_outlier function\n",
    "\n",
    "for column in eda_class[numerical_features]:\n",
    "    new_df = remove_outlier(eda_class[numerical_features], column)"
   ]
  },
  {
   "cell_type": "code",
   "execution_count": 56,
   "id": "9a768fa9",
   "metadata": {},
   "outputs": [
    {
     "name": "stdout",
     "output_type": "stream",
     "text": [
      "<class 'pandas.core.frame.DataFrame'>\n",
      "Index: 9941 entries, 0 to 9998\n",
      "Data columns (total 14 columns):\n",
      " #   Column  Non-Null Count  Dtype  \n",
      "---  ------  --------------  -----  \n",
      " 0   x0      9941 non-null   float64\n",
      " 1   x2      9941 non-null   float64\n",
      " 2   x3      9941 non-null   float64\n",
      " 3   x4      9941 non-null   float64\n",
      " 4   x5      9941 non-null   float64\n",
      " 5   x6      9941 non-null   float64\n",
      " 6   x7      9941 non-null   float64\n",
      " 7   x8      9941 non-null   float64\n",
      " 8   x9      9941 non-null   float64\n",
      " 9   x10     9941 non-null   float64\n",
      " 10  x11     9941 non-null   float64\n",
      " 11  x12     9941 non-null   float64\n",
      " 12  x15     9941 non-null   float64\n",
      " 13  x16     9941 non-null   float64\n",
      "dtypes: float64(14)\n",
      "memory usage: 1.1 MB\n"
     ]
    }
   ],
   "source": [
    "new_df.info()"
   ]
  },
  {
   "cell_type": "markdown",
   "id": "cf3e89b1",
   "metadata": {},
   "source": [
    "This looks like we removed 999 values from the dataset after all outliers were removed."
   ]
  },
  {
   "cell_type": "code",
   "execution_count": 51,
   "id": "85b5e4c1",
   "metadata": {},
   "outputs": [
    {
     "ename": "TypeError",
     "evalue": "list indices must be integers or slices, not list",
     "output_type": "error",
     "traceback": [
      "\u001b[1;31m---------------------------------------------------------------------------\u001b[0m",
      "\u001b[1;31mTypeError\u001b[0m                                 Traceback (most recent call last)",
      "Cell \u001b[1;32mIn[51], line 1\u001b[0m\n\u001b[1;32m----> 1\u001b[0m eda_class_corr \u001b[38;5;241m=\u001b[39m new_df[numerical_features]\u001b[38;5;241m.\u001b[39mcorrwith(new_df[\u001b[38;5;124m\"\u001b[39m\u001b[38;5;124my\u001b[39m\u001b[38;5;124m\"\u001b[39m])\n\u001b[0;32m      2\u001b[0m \u001b[38;5;28mprint\u001b[39m(\u001b[38;5;124mf\u001b[39m\u001b[38;5;124m\"\u001b[39m\u001b[38;5;124mHow numerical features correlate with target: \u001b[39m\u001b[38;5;130;01m\\n\u001b[39;00m\u001b[38;5;130;01m\\n\u001b[39;00m\u001b[38;5;132;01m{\u001b[39;00meda_class_corr\u001b[38;5;132;01m}\u001b[39;00m\u001b[38;5;124m\"\u001b[39m)\n",
      "\u001b[1;31mTypeError\u001b[0m: list indices must be integers or slices, not list"
     ]
    }
   ],
   "source": [
    "eda_class_corr = new_df[numerical_features].corrwith(new_df[\"y\"])\n",
    "print(f\"How numerical features correlate with target: \\n\\n{eda_class_corr}\")"
   ]
  },
  {
   "cell_type": "markdown",
   "id": "ec0a378b",
   "metadata": {},
   "source": [
    "## Encoding non ordinal features"
   ]
  },
  {
   "cell_type": "code",
   "execution_count": null,
   "id": "f2b5380b",
   "metadata": {},
   "outputs": [],
   "source": [
    "# Using One-Hot Encoding for the column with makes of vehicles, months of year and days of the week. The reason \n",
    "# for this is because there is no order o the vehicles and it is not a binary feature, so One-Hot Encoding makes the most \n",
    "# sense. With regards to the columns with month and day values, there is no date associated with these, so there is no\n",
    "# inherent order with regards to these features.\n",
    "\n",
    "new_df = pd.get_dummies(new_df, columns=['x1', 'x13', 'x14'], dtype=int)"
   ]
  },
  {
   "cell_type": "code",
   "execution_count": null,
   "id": "9d57ad24",
   "metadata": {},
   "outputs": [],
   "source": [
    "new_df.head(15)"
   ]
  },
  {
   "cell_type": "markdown",
   "id": "4ef04400",
   "metadata": {},
   "source": [
    "## Encoding ordinal features"
   ]
  },
  {
   "cell_type": "code",
   "execution_count": null,
   "id": "2d88a73d",
   "metadata": {},
   "outputs": [],
   "source": [
    "import category_encoders\n",
    "from category_encoders import OrdinalEncoder\n",
    "\n",
    "# Values like small, medium, large and days of the week and months of the year have a particular order/ranking to them, which \n",
    "# is why these would be considered ordinal features.\n",
    "\n",
    "ordinal_mapping_size = [{'col': 'x17', \"mapping\":{\"small\":1, \"medium\":2, \"large\":3}}]\n",
    "\n",
    "ord_enc = OrdinalEncoder(mapping=ordinal_mapping_size)\n",
    "new_df[['x17']] = ord_enc.fit_transform(new_df['x17'])"
   ]
  },
  {
   "cell_type": "code",
   "execution_count": null,
   "id": "e6548f04",
   "metadata": {},
   "outputs": [],
   "source": [
    "print(new_df['x17'].value_counts())"
   ]
  },
  {
   "cell_type": "code",
   "execution_count": null,
   "id": "25a4e00b",
   "metadata": {},
   "outputs": [],
   "source": [
    "# This is getting the percentage that each class makes up for the target variable\n",
    "\n",
    "new_df.y.value_counts()/len(new_df.y)"
   ]
  },
  {
   "cell_type": "markdown",
   "id": "26caecef",
   "metadata": {},
   "source": [
    "This demonstrates that our dataset is balanced as both classes in the target variable are relatively close to each other, with the 0 class making up roughly 51% of the target and 1 class making up 49% of the target."
   ]
  },
  {
   "cell_type": "markdown",
   "id": "fe525235",
   "metadata": {},
   "source": [
    "## Setting up the Model"
   ]
  },
  {
   "cell_type": "code",
   "execution_count": null,
   "id": "9fbad99a",
   "metadata": {},
   "outputs": [],
   "source": [
    "# I am using Logistic Regression as the model as it can predict a binary categorical target variable, which we are trying\n",
    "# to predict 0 and 1 values\n",
    "\n",
    "from sklearn.linear_model import LogisticRegression\n",
    "from sklearn.model_selection import train_test_split\n",
    "\n",
    "from sklearn.metrics import confusion_matrix, classification_report, ConfusionMatrixDisplay"
   ]
  },
  {
   "cell_type": "code",
   "execution_count": null,
   "id": "d93d8470",
   "metadata": {},
   "outputs": [],
   "source": [
    "# Setting up the model to use all of the features as input for the model.\n",
    "\n",
    "X = new_df.drop(['y'], axis = 1)\n",
    "y = new_df.y\n",
    "\n",
    "# Establishing the training and testing set of the data, along with setting the training/test ratio to 80/20\n",
    "\n",
    "X_train, X_test, y_train, y_test = train_test_split(X, y, test_size=0.2, random_state=42)"
   ]
  },
  {
   "cell_type": "code",
   "execution_count": null,
   "id": "c199cf61",
   "metadata": {},
   "outputs": [],
   "source": [
    "# Setting up an instance of the Logistic Regression model, fitting it with the training data, and then making predictions\n",
    "# with the trained model\n",
    "\n",
    "logreg = LogisticRegression()\n",
    "\n",
    "logreg.fit(X_train, y_train)\n",
    "\n",
    "y_pred = logreg.predict(X_test)"
   ]
  },
  {
   "cell_type": "markdown",
   "id": "37adc32c",
   "metadata": {},
   "source": [
    "## Calculating metrics of the model's performance"
   ]
  },
  {
   "cell_type": "markdown",
   "id": "271dbdf5",
   "metadata": {},
   "source": [
    "### Confusion Matrix"
   ]
  },
  {
   "cell_type": "code",
   "execution_count": 274,
   "id": "34fb6add",
   "metadata": {},
   "outputs": [
    {
     "data": {
      "image/png": "[encoded data removed]",
      "text/plain": [
       "<Figure size 640x480 with 2 Axes>"
      ]
     },
     "metadata": {},
     "output_type": "display_data"
    }
   ],
   "source": [
    "# Creating a confusion matrix off of the test data and the predicted data and plotting the results\n",
    "\n",
    "cnf_matrix = confusion_matrix(y_test, y_pred)\n",
    "ConfusionMatrixDisplay(cnf_matrix, display_labels=logreg.classes_).plot();"
   ]
  },
  {
   "cell_type": "markdown",
   "id": "29d0d45d",
   "metadata": {},
   "source": [
    "This set of numbers tell us how the model performed predicting 1s and 0s based on how the predicted values compared to the test values. It shows us how many times the model correctly predicted a 1 value, or true positives (353), 1 predictions that were actually 0s, or false positives (377), 0 predictions that were actually 0, or true negatives (620), and 0 predictions that were actually 1s, or false negatives (650)."
   ]
  },
  {
   "cell_type": "markdown",
   "id": "f6f1afea",
   "metadata": {},
   "source": [
    "### Classification Report"
   ]
  },
  {
   "cell_type": "code",
   "execution_count": 275,
   "id": "e9af96f9",
   "metadata": {},
   "outputs": [
    {
     "name": "stdout",
     "output_type": "stream",
     "text": [
      "              precision    recall  f1-score   support\n",
      "\n",
      "           0       0.51      0.63      0.57       917\n",
      "           1       0.49      0.37      0.42       883\n",
      "\n",
      "    accuracy                           0.50      1800\n",
      "   macro avg       0.50      0.50      0.49      1800\n",
      "weighted avg       0.50      0.50      0.50      1800\n",
      "\n"
     ]
    }
   ],
   "source": [
    "print(classification_report(y_test, y_pred))"
   ]
  },
  {
   "cell_type": "markdown",
   "id": "5da040e1",
   "metadata": {},
   "source": [
    "The classification report gives us metrics surrounding the precision, recall, f1 score, accuracy, macro average and weighted average.\n",
    "\n",
    "The precision of the model tells us the percentage of positive predictions that the model made out of all actual positive predictions. Out of all of the 1s that the model predicted would be 1s, only 49% were actually 1s.\n",
    "\n",
    "For recall, this measurement tells us the total positive predictions relative to the total actual positives, which this model did 37% of the time.\n",
    "\n",
    "For the F1 score, this is a weighted harmonic mean of both precision and recall. The closer to 1 this measurement is, the better the model is performing. This was at 42%, so our model is not performing very well.\n",
    "\n",
    "The accuracy of our model simply shows how many correct predictions the made overall, which was 50%, so the model is getting predictions right basically half of the time.\n",
    "\n",
    "The support shows us the count of how many pieces of data belonged to the 0s class (917) and the 1s class (883) in the test dataset.\n",
    "\n",
    "The macro average shows the result when all classes equally contribute to the final averaged metric. The weighted average is where each class's contribution to the metric is weighted by its size. Considering the size of each class is nearly the same, these measurements will look relatively identical to each other."
   ]
  },
  {
   "cell_type": "code",
   "execution_count": null,
   "id": "bbd81fed",
   "metadata": {},
   "outputs": [],
   "source": []
  }
 ],
 "metadata": {
  "kernelspec": {
   "display_name": "Python 3 (ipykernel)",
   "language": "python",
   "name": "python3"
  },
  "language_info": {
   "codemirror_mode": {
    "name": "ipython",
    "version": 3
   },
   "file_extension": ".py",
   "mimetype": "text/x-python",
   "name": "python",
   "nbconvert_exporter": "python",
   "pygments_lexer": "ipython3",
   "version": "3.11.5"
  }
 },
 "nbformat": 4,
 "nbformat_minor": 5
}
